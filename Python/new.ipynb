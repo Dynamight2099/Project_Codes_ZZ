{
 "cells": [
  {
   "cell_type": "code",
   "execution_count": 25,
   "id": "af37ce04-00e8-4476-bb3e-b261cdc598f8",
   "metadata": {},
   "outputs": [
    {
     "name": "stdout",
     "output_type": "stream",
     "text": [
      "Paragraphs are the building blocks of papers.   ---  Word count: 7\n",
      "Many students define paragraphs in terms of length:   ---  Word count: 8\n",
      "a paragraph is a group of at least five sentences, a paragraph is half a page long, etc.   ---  Word count: 18\n",
      "In reality, though, the unity and coherence of ideas among sentences is what constitutes a paragraph   ---  Word count: 16\n"
     ]
    }
   ],
   "source": [
    "f = open(\"file.txt\",\"r\")\n",
    "for line in f:\n",
    "    list= line.split(\" \")\n",
    "    list[len(list)-1] = list[len(list)-1][:-1]\n",
    "    a=''\n",
    "    for i in list:\n",
    "        a+=i\n",
    "        a+=' '\n",
    "    print(a+\"  ---  Word count: \"+str(len(list)))\n",
    "f.close()"
   ]
  },
  {
   "cell_type": "code",
   "execution_count": 27,
   "id": "c9aad50a-6394-4f8f-8ca6-87497a06297e",
   "metadata": {},
   "outputs": [
    {
     "data": {
      "text/html": [
       "<div>\n",
       "<style scoped>\n",
       "    .dataframe tbody tr th:only-of-type {\n",
       "        vertical-align: middle;\n",
       "    }\n",
       "\n",
       "    .dataframe tbody tr th {\n",
       "        vertical-align: top;\n",
       "    }\n",
       "\n",
       "    .dataframe thead th {\n",
       "        text-align: right;\n",
       "    }\n",
       "</style>\n",
       "<table border=\"1\" class=\"dataframe\">\n",
       "  <thead>\n",
       "    <tr style=\"text-align: right;\">\n",
       "      <th></th>\n",
       "      <th>Date</th>\n",
       "      <th>Event</th>\n",
       "      <th>temperature</th>\n",
       "      <th>comment</th>\n",
       "    </tr>\n",
       "  </thead>\n",
       "  <tbody>\n",
       "    <tr>\n",
       "      <th>0</th>\n",
       "      <td>1</td>\n",
       "      <td>rainy</td>\n",
       "      <td>23</td>\n",
       "      <td>go</td>\n",
       "    </tr>\n",
       "    <tr>\n",
       "      <th>1</th>\n",
       "      <td>2</td>\n",
       "      <td>sunny</td>\n",
       "      <td>54</td>\n",
       "      <td>nogo</td>\n",
       "    </tr>\n",
       "    <tr>\n",
       "      <th>2</th>\n",
       "      <td>3</td>\n",
       "      <td>stormy</td>\n",
       "      <td>32</td>\n",
       "      <td>nogo</td>\n",
       "    </tr>\n",
       "    <tr>\n",
       "      <th>3</th>\n",
       "      <td>4</td>\n",
       "      <td>thunder</td>\n",
       "      <td>12</td>\n",
       "      <td>go</td>\n",
       "    </tr>\n",
       "    <tr>\n",
       "      <th>4</th>\n",
       "      <td>5</td>\n",
       "      <td>winter</td>\n",
       "      <td>33</td>\n",
       "      <td>go</td>\n",
       "    </tr>\n",
       "    <tr>\n",
       "      <th>5</th>\n",
       "      <td>6</td>\n",
       "      <td>cold</td>\n",
       "      <td>65</td>\n",
       "      <td>nogo</td>\n",
       "    </tr>\n",
       "  </tbody>\n",
       "</table>\n",
       "</div>"
      ],
      "text/plain": [
       "   Date    Event  temperature comment\n",
       "0     1    rainy           23      go\n",
       "1     2    sunny           54    nogo\n",
       "2     3   stormy           32    nogo\n",
       "3     4  thunder           12      go\n",
       "4     5   winter           33      go\n",
       "5     6     cold           65    nogo"
      ]
     },
     "execution_count": 27,
     "metadata": {},
     "output_type": "execute_result"
    }
   ],
   "source": [
    "weather = {'Date':[1,2,3,4,5,6], 'Event':['rainy','sunny','stormy','thunder','winter','cold'], 'temperature' : [23,54,32,12,33,65], 'comment': ['go','nogo','nogo','go','go','nogo']}\n",
    "import pandas as pd\n",
    "df = pd.DataFrame(weather)\n",
    "df"
   ]
  },
  {
   "cell_type": "code",
   "execution_count": 40,
   "id": "ffd26882-5789-41ec-bc9f-435bb5a7958a",
   "metadata": {},
   "outputs": [
    {
     "data": {
      "text/plain": [
       "Index(['Date', 'Event', 'temperature', 'comment'], dtype='object')"
      ]
     },
     "execution_count": 40,
     "metadata": {},
     "output_type": "execute_result"
    }
   ],
   "source": [
    "df.columns"
   ]
  },
  {
   "cell_type": "code",
   "execution_count": 43,
   "id": "41e9b7f0-4f7a-484e-9841-17c283451983",
   "metadata": {},
   "outputs": [
    {
     "ename": "NameError",
     "evalue": "name 'jt' is not defined",
     "output_type": "error",
     "traceback": [
      "\u001b[1;31m---------------------------------------------------------------------------\u001b[0m",
      "\u001b[1;31mNameError\u001b[0m                                 Traceback (most recent call last)",
      "Cell \u001b[1;32mIn[43], line 1\u001b[0m\n\u001b[1;32m----> 1\u001b[0m jt \u001b[38;5;241m-\u001b[39ml\n",
      "\u001b[1;31mNameError\u001b[0m: name 'jt' is not defined"
     ]
    }
   ],
   "source": []
  }
 ],
 "metadata": {
  "kernelspec": {
   "display_name": "Python 3 (ipykernel)",
   "language": "python",
   "name": "python3"
  },
  "language_info": {
   "codemirror_mode": {
    "name": "ipython",
    "version": 3
   },
   "file_extension": ".py",
   "mimetype": "text/x-python",
   "name": "python",
   "nbconvert_exporter": "python",
   "pygments_lexer": "ipython3",
   "version": "3.11.7"
  }
 },
 "nbformat": 4,
 "nbformat_minor": 5
}
