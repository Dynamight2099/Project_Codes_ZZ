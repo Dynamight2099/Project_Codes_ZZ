{
  "nbformat": 4,
  "nbformat_minor": 0,
  "metadata": {
    "colab": {
      "provenance": []
    },
    "kernelspec": {
      "name": "python3",
      "display_name": "Python 3"
    },
    "language_info": {
      "name": "python"
    }
  },
  "cells": [
    {
      "cell_type": "code",
      "source": [
        "from IPython.display import clear_output"
      ],
      "metadata": {
        "id": "JNOyc6l1bDlC"
      },
      "execution_count": 1,
      "outputs": []
    },
    {
      "cell_type": "code",
      "source": [
        "def print_board(board):\n",
        "  clear_output()\n",
        "  b=board\n",
        "  print(f'   |   |   \\n {b[7]} | {b[8]} | {b[9]} \\n   |   |   ')\n",
        "  print('-----------')\n",
        "  print(f'   |   |   \\n {b[4]} | {b[5]} | {b[6]} \\n   |   |   ')\n",
        "  print('-----------')\n",
        "  print(f'   |   |   \\n {b[1]} | {b[2]} | {b[3]} \\n   |   |   ')"
      ],
      "metadata": {
        "id": "D8-fKg9VaMbs"
      },
      "execution_count": 2,
      "outputs": []
    },
    {
      "cell_type": "code",
      "source": [
        "def player_int():\n",
        "  mark=''\n",
        "  while mark !='X' and mark !='O':\n",
        "    mark=input(\"Enter either X or O for player 1: \").upper()\n",
        "\n",
        "  p1=mark\n",
        "  if p1=='X':\n",
        "    p2='O'\n",
        "  else:\n",
        "    p2='X'\n",
        "  return (p1,p2)"
      ],
      "metadata": {
        "id": "PwcK3RuLe72e"
      },
      "execution_count": 20,
      "outputs": []
    },
    {
      "cell_type": "code",
      "source": [
        "def placer(board,marker,position):\n",
        "  board[position]=marker\n"
      ],
      "metadata": {
        "id": "P9M5GK_tf_Yw"
      },
      "execution_count": 4,
      "outputs": []
    },
    {
      "cell_type": "code",
      "source": [
        "def check_win(board,mark):\n",
        "  a= ( (board[1] == board[2] == board[3] == mark) or ##r0\n",
        "      (board[4] == board[5] == board[6] == mark) or ## rows\n",
        "      (board[7] == board[8] == board[9] == mark) or ##ro\n",
        "      (board[1] == board[4] == board[7] == mark) or ## columns\n",
        "       (board[2] == board[5] == board[8] == mark) or## col\n",
        "       (board[3] == board[6] == board[9] == mark) or## col\n",
        "       (board[1] == board[5] == board[9] == mark) or##diag1\n",
        "       (board[3] == board[5] == board[7] == mark)  ##diag2\n",
        "       )\n",
        "  return a"
      ],
      "metadata": {
        "id": "-J_xCVeEiN7t"
      },
      "execution_count": 5,
      "outputs": []
    },
    {
      "cell_type": "code",
      "source": [
        "def space_check(board,position):\n",
        "  return board[position]==' '"
      ],
      "metadata": {
        "id": "qvKFrmf3km-D"
      },
      "execution_count": 6,
      "outputs": []
    },
    {
      "cell_type": "code",
      "source": [
        "def full_board(board):\n",
        "  for i in range(1,10):\n",
        "    if space_check(board,i):\n",
        "      return False\n",
        "  return True"
      ],
      "metadata": {
        "id": "r_dv0Ncik3Ky"
      },
      "execution_count": 7,
      "outputs": []
    },
    {
      "cell_type": "code",
      "source": [
        "def player_choice(board):\n",
        "  p=0\n",
        "  while p not in [1,2,3,4,5,6,7,8,9] or not space_check(board,p):\n",
        "    p= int(input(\"Enter a position from 1-9: \"))\n",
        "  return p"
      ],
      "metadata": {
        "id": "YN9uirlfkLrH"
      },
      "execution_count": 16,
      "outputs": []
    },
    {
      "cell_type": "code",
      "source": [
        "def replay():\n",
        "  x= input(\"Enter y if you want to play again else enter n: \")\n",
        "  if x=='y':\n",
        "    return True\n",
        "  else:\n",
        "    return False"
      ],
      "metadata": {
        "id": "r_fC93PdmgLU"
      },
      "execution_count": 9,
      "outputs": []
    },
    {
      "cell_type": "code",
      "source": [
        "while True:\n",
        "  clear_output()\n",
        "  board = [' ']*10\n",
        "  p1 , p2 = player_int()\n",
        "  print(\"Player 1 will go first\\n\")\n",
        "  turn = 'p1'\n",
        "  g = input(\"Would like to start(Y/N): \").upper()\n",
        "  if g=='Y':\n",
        "    game = True\n",
        "  else:\n",
        "    game= False\n",
        "  while game:\n",
        "\n",
        "    if turn=='p1':\n",
        "      #player 1\n",
        "      print_board(board)\n",
        "      print(\"Player-1 plays\\n\")\n",
        "      p=player_choice(board)\n",
        "      placer(board,p1,p)\n",
        "\n",
        "      if check_win(board,p1): #win\n",
        "        print_board(board)\n",
        "        print(\"Player 1 has won\")\n",
        "        game = False\n",
        "      else:   #tie\n",
        "        if full_board(board):\n",
        "          print_board(board)\n",
        "          print(\"game is tie\")\n",
        "          game=False\n",
        "          break\n",
        "        else:\n",
        "          turn='p2'\n",
        "    else:\n",
        "        #player 2\n",
        "        print_board(board)\n",
        "        print(\"player-2 plays\")\n",
        "        p=player_choice(board)\n",
        "        placer(board,p2,p)\n",
        "\n",
        "        if check_win(board,p2):\n",
        "          print_board(board)\n",
        "          print(\"Player 2 has won\")\n",
        "          game = False\n",
        "        else:   #tie\n",
        "          if full_board(board):\n",
        "            print_board(board)\n",
        "            print(\"game is tie\")\n",
        "            game=False\n",
        "            break\n",
        "          else:\n",
        "            turn='p1'\n",
        "  if not replay():\n",
        "    break\n",
        "\n",
        "\n",
        "\n"
      ],
      "metadata": {
        "id": "22Mk9QRrc0M_"
      },
      "execution_count": null,
      "outputs": []
    }
  ]
}